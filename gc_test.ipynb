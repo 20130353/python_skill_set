{
 "cells": [
  {
   "cell_type": "code",
   "execution_count": 11,
   "metadata": {},
   "outputs": [],
   "source": [
    "import gc\n",
    "import time\n",
    "\n",
    "class ClassA():\n",
    "    def __init__(self):\n",
    "        print ('object born,id:%s'%str(hex(id(self))))\n",
    "    def __del__(self):\n",
    "        print ('object del,id:%s'%str(hex(id(self))))\n",
    "\n",
    "def f1():\n",
    "    while True:\n",
    "        c1=ClassA()\n",
    "        del c1"
   ]
  },
  {
   "cell_type": "code",
   "execution_count": 9,
   "metadata": {},
   "outputs": [
    {
     "name": "stdout",
     "output_type": "stream",
     "text": [
      "object born,id:0x7fbc1c7b6e80\n",
      "object born,id:0x7fbc1c7b6d30\n",
      "[<function ClassA.__init__ at 0x7fbc1c79d048>, <function ClassA.__del__ at 0x7fbc1c79d510>, (<class 'object'>,), {'__module__': '__main__', '__weakref__': <attribute '__weakref__' of 'ClassA' objects>, '__doc__': None, '__init__': <function ClassA.__init__ at 0x7fbc1c79d048>, '__del__': <function ClassA.__del__ at 0x7fbc1c79d510>, '__dict__': <attribute '__dict__' of 'ClassA' objects>}, <class '__main__.ClassA'>, <attribute '__dict__' of 'ClassA' objects>, <attribute '__weakref__' of 'ClassA' objects>, (<class '__main__.ClassA'>, <class 'object'>), <__main__.ClassA object at 0x7fbc1c7b6be0>, <__main__.ClassA object at 0x7fbc1c7b6b70>, {'t': <__main__.ClassA object at 0x7fbc1c7b6b70>}, {'t': <__main__.ClassA object at 0x7fbc1c7b6be0>}, <frame object at 0x30aa938>, <cell at 0x7fbc1d01b1c8: ExecutionResult object at 0x7fbc1d00ec50>, <cell at 0x7fbc1d01b0d8: ZMQInteractiveShell object at 0x7fbc208b1d68>, <cell at 0x7fbc1d01b108: bool object at 0xa3f140>, <ExecutionInfo object at 7fbc1d00ed68, raw_cell=\"deff3():\n",
      "    # print gc.collect()\n",
      "    c1=ClassA()\n",
      "..\" store_history=True silent=False shell_futures=True>, <ExecutionResult object at 7fbc1d00ec50, execution_count=1 error_before_exec=invalid syntax (<ipython-input-1-e32ad9e75c96>, line 1) error_in_exec=None info=<ExecutionInfo object at 7fbc1d00ed68, raw_cell=\"deff3():\n",
      "    # print gc.collect()\n",
      "    c1=ClassA()\n",
      "..\" store_history=True silent=False shell_futures=True> result=None>, {'info': <ExecutionInfo object at 7fbc1d00ed68, raw_cell=\"deff3():\n",
      "    # print gc.collect()\n",
      "    c1=ClassA()\n",
      "..\" store_history=True silent=False shell_futures=True>, 'error_before_exec': SyntaxError('invalid syntax', ('<ipython-input-1-e32ad9e75c96>', 1, 8, 'deff3():\\n')), 'execution_count': 1}, <function InteractiveShell.run_cell_async.<locals>.error_before_exec at 0x7fbc1d011400>, SyntaxError('invalid syntax', ('<ipython-input-1-e32ad9e75c96>', 1, 8, 'deff3():\\n')), <class '__main__.ClassA'>, (<class '__main__.ClassA'>, <class 'object'>), (<cell at 0x7fbc1d01b1c8: ExecutionResult object at 0x7fbc1d00ec50>, <cell at 0x7fbc1d01b0d8: ZMQInteractiveShell object at 0x7fbc208b1d68>, <cell at 0x7fbc1d01b108: bool object at 0xa3f140>), ('invalid syntax', ('<ipython-input-1-e32ad9e75c96>', 1, 8, 'deff3():\\n')), <traceback object at 0x7fbc1c7a91c8>, {'__module__': '__main__', '__weakref__': <attribute '__weakref__' of 'ClassA' objects>, '__doc__': None, '__init__': <function ClassA.__init__ at 0x7fbc1d011e18>, '__del__': <function ClassA.__del__ at 0x7fbc1d011c80>, '__dict__': <attribute '__dict__' of 'ClassA' objects>}, <traceback object at 0x7fbc1c7a92c8>, <attribute '__weakref__' of 'ClassA' objects>, <function ClassA.__init__ at 0x7fbc1d011e18>, <function ClassA.__del__ at 0x7fbc1d011c80>, <attribute '__dict__' of 'ClassA' objects>, <frame object at 0x7fbc1d028230>]\n",
      "object del,id:0x7fbc1c7b6e80\n",
      "object del,id:0x7fbc1c7b6d30\n",
      "12\n",
      "[<function ClassA.__init__ at 0x7fbc1c79d048>, <function ClassA.__del__ at 0x7fbc1c79d510>, (<class 'object'>,), {'__module__': '__main__', '__weakref__': <attribute '__weakref__' of 'ClassA' objects>, '__doc__': None, '__init__': <function ClassA.__init__ at 0x7fbc1c79d048>, '__del__': <function ClassA.__del__ at 0x7fbc1c79d510>, '__dict__': <attribute '__dict__' of 'ClassA' objects>}, <class '__main__.ClassA'>, <attribute '__dict__' of 'ClassA' objects>, <attribute '__weakref__' of 'ClassA' objects>, (<class '__main__.ClassA'>, <class 'object'>), <__main__.ClassA object at 0x7fbc1c7b6be0>, <__main__.ClassA object at 0x7fbc1c7b6b70>, {'t': <__main__.ClassA object at 0x7fbc1c7b6b70>}, {'t': <__main__.ClassA object at 0x7fbc1c7b6be0>}, <frame object at 0x30aa938>, <cell at 0x7fbc1d01b1c8: ExecutionResult object at 0x7fbc1d00ec50>, <cell at 0x7fbc1d01b0d8: ZMQInteractiveShell object at 0x7fbc208b1d68>, <cell at 0x7fbc1d01b108: bool object at 0xa3f140>, <ExecutionInfo object at 7fbc1d00ed68, raw_cell=\"deff3():\n",
      "    # print gc.collect()\n",
      "    c1=ClassA()\n",
      "..\" store_history=True silent=False shell_futures=True>, <ExecutionResult object at 7fbc1d00ec50, execution_count=1 error_before_exec=invalid syntax (<ipython-input-1-e32ad9e75c96>, line 1) error_in_exec=None info=<ExecutionInfo object at 7fbc1d00ed68, raw_cell=\"deff3():\n",
      "    # print gc.collect()\n",
      "    c1=ClassA()\n",
      "..\" store_history=True silent=False shell_futures=True> result=None>, {'info': <ExecutionInfo object at 7fbc1d00ed68, raw_cell=\"deff3():\n",
      "    # print gc.collect()\n",
      "    c1=ClassA()\n",
      "..\" store_history=True silent=False shell_futures=True>, 'error_before_exec': SyntaxError('invalid syntax', ('<ipython-input-1-e32ad9e75c96>', 1, 8, 'deff3():\\n')), 'execution_count': 1}, <function InteractiveShell.run_cell_async.<locals>.error_before_exec at 0x7fbc1d011400>, SyntaxError('invalid syntax', ('<ipython-input-1-e32ad9e75c96>', 1, 8, 'deff3():\\n')), <class '__main__.ClassA'>, (<class '__main__.ClassA'>, <class 'object'>), (<cell at 0x7fbc1d01b1c8: ExecutionResult object at 0x7fbc1d00ec50>, <cell at 0x7fbc1d01b0d8: ZMQInteractiveShell object at 0x7fbc208b1d68>, <cell at 0x7fbc1d01b108: bool object at 0xa3f140>), ('invalid syntax', ('<ipython-input-1-e32ad9e75c96>', 1, 8, 'deff3():\\n')), <traceback object at 0x7fbc1c7a91c8>, {'__module__': '__main__', '__weakref__': <attribute '__weakref__' of 'ClassA' objects>, '__doc__': None, '__init__': <function ClassA.__init__ at 0x7fbc1d011e18>, '__del__': <function ClassA.__del__ at 0x7fbc1d011c80>, '__dict__': <attribute '__dict__' of 'ClassA' objects>}, <traceback object at 0x7fbc1c7a92c8>, <attribute '__weakref__' of 'ClassA' objects>, <function ClassA.__init__ at 0x7fbc1d011e18>, <function ClassA.__del__ at 0x7fbc1d011c80>, <attribute '__dict__' of 'ClassA' objects>, <frame object at 0x7fbc1d028230>, <traceback object at 0x7fbc1c7b3448>, NameError(\"name 'gc' is not defined\",), <frame object at 0x30af458>, <traceback object at 0x7fbc1c7b3408>, <ExecutionResult object at 7fbc1d00ed30, execution_count=4 error_before_exec=None error_in_exec=name 'gc' is not defined info=<ExecutionInfo object at 7fbc1d00ee48, raw_cell=\"def f3():\n",
      "    # print gc.collect()\n",
      "    c1=ClassA()..\" store_history=True silent=False shell_futures=True> result=None>, <frame object at 0x7fbc10006a68>, {'info': <ExecutionInfo object at 7fbc1d00ee48, raw_cell=\"def f3():\n",
      "    # print gc.collect()\n",
      "    c1=ClassA()..\" store_history=True silent=False shell_futures=True>, 'execution_count': 4, 'error_in_exec': NameError(\"name 'gc' is not defined\",)}, <ExecutionInfo object at 7fbc1d00ee48, raw_cell=\"def f3():\n",
      "    # print gc.collect()\n",
      "    c1=ClassA()..\" store_history=True silent=False shell_futures=True>, <__main__.ClassA object at 0x7fbc1c7b6e80>, <__main__.ClassA object at 0x7fbc1c7b6d30>, {'t': <__main__.ClassA object at 0x7fbc1c7b6d30>}, {'t': <__main__.ClassA object at 0x7fbc1c7b6e80>}]\n"
     ]
    },
    {
     "name": "stderr",
     "output_type": "stream",
     "text": [
      "gc: collectable <traceback 0x7fbc1c7b3448>\n",
      "gc: collectable <NameError 0x7fbc1c7ab150>\n",
      "gc: collectable <frame 0x30af458>\n",
      "gc: collectable <traceback 0x7fbc1c7b3408>\n",
      "gc: collectable <ExecutionResult 0x7fbc1d00ed30>\n",
      "gc: collectable <frame 0x7fbc10006a68>\n",
      "gc: collectable <dict 0x7fbc1d010d88>\n",
      "gc: collectable <ExecutionInfo 0x7fbc1d00ee48>\n",
      "gc: collectable <ClassA 0x7fbc1c7b6e80>\n",
      "gc: collectable <ClassA 0x7fbc1c7b6d30>\n",
      "gc: collectable <dict 0x7fbc1c7b7948>\n",
      "gc: collectable <dict 0x7fbc1d0108c8>\n"
     ]
    }
   ],
   "source": [
    "def f3():\n",
    "    # print gc.collect()\n",
    "    c1=ClassA()\n",
    "    c2=ClassA()\n",
    "    c1.t=c2\n",
    "    c2.t=c1\n",
    "    del c1\n",
    "    del c2\n",
    "    print (gc.garbage)\n",
    "    print (gc.collect()) #显式执行垃圾回收\n",
    "    print (gc.garbage)\n",
    "    time.sleep(10)\n",
    "    \n",
    "if __name__ == '__main__':\n",
    "    gc.set_debug(gc.DEBUG_LEAK) #设置gc模块的日志\n",
    "    f3()"
   ]
  },
  {
   "cell_type": "code",
   "execution_count": 12,
   "metadata": {},
   "outputs": [
    {
     "name": "stdout",
     "output_type": "stream",
     "text": [
      "0x7fbc1c7b6048 will be dead\n"
     ]
    }
   ],
   "source": [
    "class User(object):\n",
    "    def __del__(self):\n",
    "        print (hex(id(self)), \"will be dead\")\n",
    "\n",
    "gc.disable()    # 关掉 GC\n",
    "a = User()    \n",
    "del a  # 对象正常回收，引用计数不会依赖 GC。"
   ]
  },
  {
   "cell_type": "code",
   "execution_count": 14,
   "metadata": {},
   "outputs": [
    {
     "data": {
      "text/plain": [
       "(700, 10, 10)"
      ]
     },
     "execution_count": 14,
     "metadata": {},
     "output_type": "execute_result"
    }
   ],
   "source": [
    "gc.get_threshold()"
   ]
  },
  {
   "cell_type": "code",
   "execution_count": 15,
   "metadata": {},
   "outputs": [
    {
     "data": {
      "text/plain": [
       "(460, 0, 0)"
      ]
     },
     "execution_count": 15,
     "metadata": {},
     "output_type": "execute_result"
    }
   ],
   "source": [
    "gc.get_count()"
   ]
  },
  {
   "cell_type": "code",
   "execution_count": 17,
   "metadata": {},
   "outputs": [
    {
     "data": {
      "text/plain": [
       "(<__main__.User at 0x7fbc1c72e6d8>, <__main__.User at 0x7fbc1c72e860>)"
      ]
     },
     "execution_count": 17,
     "metadata": {},
     "output_type": "execute_result"
    }
   ],
   "source": [
    "import gc, weakref\n",
    "class User(object):pass\n",
    "def callback(r): \n",
    "    print (r, \"dead\")\n",
    "gc.disable()   \n",
    "a = User(); wa = weakref.ref(a, callback)\n",
    "b = User(); wb = weakref.ref(b, callback)\n",
    "a.b = b; b.a = a    # 形成循环引用关系。\n",
    "del a; del b     # 删除名字引用。\n",
    "wa(), wb()  "
   ]
  },
  {
   "cell_type": "code",
   "execution_count": 18,
   "metadata": {},
   "outputs": [
    {
     "ename": "NameError",
     "evalue": "name 'a' is not defined",
     "output_type": "error",
     "traceback": [
      "\u001b[0;31m---------------------------------------------------------------------------\u001b[0m",
      "\u001b[0;31mNameError\u001b[0m                                 Traceback (most recent call last)",
      "\u001b[0;32m<ipython-input-18-05dec960e24d>\u001b[0m in \u001b[0;36m<module>\u001b[0;34m\u001b[0m\n\u001b[0;32m----> 1\u001b[0;31m \u001b[0ma\u001b[0m\u001b[0;34m\u001b[0m\u001b[0m\n\u001b[0m\u001b[1;32m      2\u001b[0m \u001b[0mb\u001b[0m\u001b[0;34m\u001b[0m\u001b[0m\n",
      "\u001b[0;31mNameError\u001b[0m: name 'a' is not defined"
     ]
    }
   ],
   "source": []
  },
  {
   "cell_type": "code",
   "execution_count": 19,
   "metadata": {},
   "outputs": [
    {
     "name": "stderr",
     "output_type": "stream",
     "text": [
      "gc: collectable <SyntaxError 0x7fbc1d011ae8>\n",
      "gc: collectable <traceback 0x7fbc1d0207c8>\n",
      "gc: collectable <traceback 0x7fbc1d020408>\n",
      "gc: collectable <frame 0x30aded8>\n",
      "gc: collectable <frame 0x7fbc1c7b1230>\n",
      "gc: collectable <ExecutionInfo 0x7fbc1d00ec18>\n",
      "gc: collectable <function 0x7fbc1d011f28>\n",
      "gc: collectable <cell 0x7fbc1d01b3a8>\n",
      "gc: collectable <cell 0x7fbc1d01b348>\n",
      "gc: collectable <cell 0x7fbc1d01b168>\n",
      "gc: collectable <tuple 0x7fbc1d00c990>\n",
      "gc: collectable <ExecutionResult 0x7fbc1d00ecf8>\n",
      "gc: collectable <dict 0x7fbc1d020288>\n",
      "gc: collectable <traceback 0x7fbc1c780c08>\n",
      "gc: collectable <NameError 0x7fbc1cffebf8>\n",
      "gc: collectable <traceback 0x7fbc1c780c48>\n",
      "gc: collectable <frame 0x7fbc10005e58>\n",
      "gc: collectable <traceback 0x7fbc1c780c88>\n",
      "gc: collectable <frame 0x2578688>\n",
      "gc: collectable <ExecutionResult 0x7fbc1c7af668>\n",
      "gc: collectable <frame 0x30a4e88>\n",
      "gc: collectable <dict 0x7fbc1c7a9588>\n",
      "gc: collectable <ExecutionInfo 0x7fbc1c7af2e8>\n",
      "gc: collectable <tuple 0x7fbc20dee048>\n",
      "gc: collectable <function 0x7fbc1c79dae8>\n",
      "gc: collectable <dict 0x7fbc1d020788>\n",
      "gc: collectable <type 0x30cdb48>\n",
      "gc: collectable <getset_descriptor 0x7fbc1c787828>\n",
      "gc: collectable <getset_descriptor 0x7fbc1c787870>\n",
      "gc: collectable <tuple 0x7fbc1d020e48>\n",
      "gc: collectable <ExecutionInfo 0x7fbc1c7afbe0>\n",
      "gc: collectable <ExecutionResult 0x7fbc1c7afef0>\n",
      "gc: collectable <dict 0x7fbc1c780348>\n",
      "gc: collectable <tuple 0x7fbc1c7af2b0>\n",
      "gc: collectable <function 0x7fbc1c79d9d8>\n",
      "gc: collectable <dict 0x7fbc1c7886c8>\n",
      "gc: collectable <type 0x30ebc48>\n",
      "gc: collectable <getset_descriptor 0x7fbc1c787948>\n",
      "gc: collectable <getset_descriptor 0x7fbc1c787c60>\n",
      "gc: collectable <tuple 0x7fbc1c7891c8>\n",
      "gc: collectable <frame 0x7fbc100099a8>\n",
      "gc: collectable <frame 0x30b4dd8>\n",
      "gc: collectable <traceback 0x7fbc1c7881c8>\n",
      "gc: collectable <traceback 0x7fbc1c788188>\n",
      "gc: collectable <tuple 0x7fbc20dee0b8>\n",
      "gc: collectable <NameError 0x7fbc1c798ca8>\n"
     ]
    },
    {
     "data": {
      "text/plain": [
       "46"
      ]
     },
     "execution_count": 19,
     "metadata": {},
     "output_type": "execute_result"
    }
   ],
   "source": [
    "gc.collect()"
   ]
  },
  {
   "cell_type": "code",
   "execution_count": null,
   "metadata": {},
   "outputs": [],
   "source": []
  }
 ],
 "metadata": {
  "kernelspec": {
   "display_name": "Python 3",
   "language": "python",
   "name": "python3"
  },
  "language_info": {
   "codemirror_mode": {
    "name": "ipython",
    "version": 3
   },
   "file_extension": ".py",
   "mimetype": "text/x-python",
   "name": "python",
   "nbconvert_exporter": "python",
   "pygments_lexer": "ipython3",
   "version": "3.5.2"
  }
 },
 "nbformat": 4,
 "nbformat_minor": 2
}
