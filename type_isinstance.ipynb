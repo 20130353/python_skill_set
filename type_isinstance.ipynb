{
 "cells": [
  {
   "cell_type": "code",
   "execution_count": 2,
   "metadata": {},
   "outputs": [
    {
     "name": "stdout",
     "output_type": "stream",
     "text": [
      "True\n",
      "True\n"
     ]
    }
   ],
   "source": [
    "print(type('foo') == str)\n",
    "print(type(2.3) in (int,float))"
   ]
  },
  {
   "cell_type": "code",
   "execution_count": 4,
   "metadata": {},
   "outputs": [
    {
     "name": "stdout",
     "output_type": "stream",
     "text": [
      "True\n",
      "False\n",
      "True\n"
     ]
    }
   ],
   "source": [
    "class Foo(object):\n",
    "    pass\n",
    "\n",
    "class Bar(Foo):\n",
    "    pass\n",
    "\n",
    "print(type(Foo()) == Foo)\n",
    "print(type(Bar()) == Foo)\n",
    "print(isinstance(Bar(),Foo))\n",
    "# using type, the subclass Bar would not be thought as the same class of Foo\n",
    "# isinstance shows opposite result"
   ]
  },
  {
   "cell_type": "code",
   "execution_count": 7,
   "metadata": {},
   "outputs": [
    {
     "name": "stdout",
     "output_type": "stream",
     "text": [
      "old style class <class '__main__.A'>\n",
      "old style class <class '__main__.B'>\n",
      "new style class <class '__main__.C'>\n",
      "False\n"
     ]
    }
   ],
   "source": [
    "class A:\n",
    "    pass\n",
    "\n",
    "class B:\n",
    "    pass\n",
    "\n",
    "class C(object):\n",
    "    pass\n",
    "\n",
    "print ('old style class',type(A()))\n",
    "print ('old style class',type(B()))\n",
    "print ('new style class',type(C()))\n",
    "print (type(A()) == type(B()))\n",
    "\n",
    "# the types of official class and own defined classes are same in python3.!!"
   ]
  },
  {
   "cell_type": "code",
   "execution_count": null,
   "metadata": {},
   "outputs": [],
   "source": []
  }
 ],
 "metadata": {
  "kernelspec": {
   "display_name": "Python 3",
   "language": "python",
   "name": "python3"
  },
  "language_info": {
   "codemirror_mode": {
    "name": "ipython",
    "version": 3
   },
   "file_extension": ".py",
   "mimetype": "text/x-python",
   "name": "python",
   "nbconvert_exporter": "python",
   "pygments_lexer": "ipython3",
   "version": "3.6.5"
  }
 },
 "nbformat": 4,
 "nbformat_minor": 2
}
