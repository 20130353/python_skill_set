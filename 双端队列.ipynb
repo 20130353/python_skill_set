{
 "cells": [
  {
   "cell_type": "code",
   "execution_count": 2,
   "metadata": {},
   "outputs": [
    {
     "name": "stdout",
     "output_type": "stream",
     "text": [
      "[94, 47, 55, 7, 94, 50, 1, 54, 87, 79]\n",
      "greater than N\n",
      "deque([94], maxlen=5)\n",
      "less than N\n",
      "deque([94, 47], maxlen=5)\n",
      "less than N\n",
      "deque([94, 47, 55], maxlen=5)\n",
      "less than N\n",
      "deque([94, 47, 55, 7], maxlen=5)\n",
      "greater than N\n",
      "deque([94, 47, 55, 7, 94], maxlen=5)\n",
      "less than N\n",
      "deque([47, 55, 7, 94, 50], maxlen=5)\n",
      "less than N\n",
      "deque([55, 7, 94, 50, 1], maxlen=5)\n",
      "less than N\n",
      "deque([7, 94, 50, 1, 54], maxlen=5)\n",
      "greater than N\n",
      "deque([94, 50, 1, 54, 87], maxlen=5)\n",
      "greater than N\n",
      "deque([50, 1, 54, 87, 79], maxlen=5)\n"
     ]
    }
   ],
   "source": [
    "#  统计用户的最近记录\n",
    "# 解决方式：\n",
    "# 双端队列\n",
    "# 实现一个猜数字的小游戏\n",
    "\n",
    "from random import randint\n",
    "from collections import deque\n",
    "\n",
    "N = randint(0,100)\n",
    "q = deque([],5)\n",
    "\n",
    "def guess(k):\n",
    "    q.append(k)\n",
    "    if k == N:\n",
    "        print('right')\n",
    "        return True\n",
    "    elif k < N:\n",
    "        print('less than N')\n",
    "        return False\n",
    "    else:\n",
    "        print('greater than N')\n",
    "        return False\n",
    "\n",
    "data = [randint(0,100) for _ in range(10)]\n",
    "print(data)\n",
    "for x in data:\n",
    "    guess(x)\n",
    "    print(q)\n",
    "\n",
    "    "
   ]
  },
  {
   "cell_type": "code",
   "execution_count": null,
   "metadata": {},
   "outputs": [],
   "source": []
  }
 ],
 "metadata": {
  "kernelspec": {
   "display_name": "Python 3",
   "language": "python",
   "name": "python3"
  },
  "language_info": {
   "codemirror_mode": {
    "name": "ipython",
    "version": 3
   },
   "file_extension": ".py",
   "mimetype": "text/x-python",
   "name": "python",
   "nbconvert_exporter": "python",
   "pygments_lexer": "ipython3",
   "version": "3.5.2"
  }
 },
 "nbformat": 4,
 "nbformat_minor": 2
}
