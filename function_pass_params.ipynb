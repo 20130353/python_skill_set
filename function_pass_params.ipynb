{
 "cells": [
  {
   "cell_type": "code",
   "execution_count": 4,
   "metadata": {},
   "outputs": [
    {
     "name": "stdout",
     "output_type": "stream",
     "text": [
      "4\n",
      "3\n",
      "4\n"
     ]
    }
   ],
   "source": [
    "# referance link : https://foofish.net/python-function-args.html\n",
    "# python function pass parameters\n",
    "def foo(a):\n",
    "    a = 3\n",
    "    print(a)\n",
    "a = 4\n",
    "\n",
    "print(a) # 4\n",
    "foo(a) # 3\n",
    "print(a) # 4 "
   ]
  },
  {
   "cell_type": "code",
   "execution_count": 6,
   "metadata": {},
   "outputs": [
    {
     "name": "stdout",
     "output_type": "stream",
     "text": [
      "[]\n",
      "139836823189128\n",
      "[1]\n",
      "139836823189128\n"
     ]
    }
   ],
   "source": [
    "def bar(args):\n",
    "    args.append(1)\n",
    "\n",
    "b = []\n",
    "print(b)#　输出：[]\n",
    "print(id(b)) # 输出：4324106952\n",
    "bar(b)\n",
    "print(b) #＃　输出：[1]\n",
    "print(id(b)) \n",
    "# although we add one element to the b list, but the position of memary of b is not changed.\n",
    "# because the b is not redefined "
   ]
  },
  {
   "cell_type": "code",
   "execution_count": 7,
   "metadata": {},
   "outputs": [],
   "source": [
    "# everything is ojbect in python\n",
    "# variable is a type of quote of object\n",
    "a = []\n",
    "a.append(1)\n",
    "\n",
    "# a is a name, we operate the [] object through the a name\n",
    "# 非要安一个确切的叫法的话，叫传对象（call by object）。\n",
    "# 如果作为面试官，非要考察候选人对 Python 函数参数传递掌握与否，与其讨论字面上的意思，还不如来点实际代码。"
   ]
  },
  {
   "cell_type": "code",
   "execution_count": 9,
   "metadata": {},
   "outputs": [
    {
     "name": "stdout",
     "output_type": "stream",
     "text": [
      "['one']\n",
      "['one', 'one']\n"
     ]
    }
   ],
   "source": [
    "def bad_append(new_item, a_list=[]):\n",
    "    a_list.append(new_item)\n",
    "    return a_list\n",
    "print(bad_append('one'))\n",
    "print(bad_append('one'))\n",
    "# None object is the same one?"
   ]
  },
  {
   "cell_type": "code",
   "execution_count": 10,
   "metadata": {},
   "outputs": [
    {
     "name": "stdout",
     "output_type": "stream",
     "text": [
      "['one', 'one', 'one']\n",
      "['one', 'one', 'one', 'one']\n"
     ]
    }
   ],
   "source": [
    "def good_append(new_item, a_list=None):\n",
    "    if a_list is None:\n",
    "        a_list = []\n",
    "    a_list.append(new_item)\n",
    "    return a_list\n",
    "print(bad_append('one'))\n",
    "print(bad_append('one'))"
   ]
  },
  {
   "cell_type": "code",
   "execution_count": 12,
   "metadata": {},
   "outputs": [
    {
     "name": "stdout",
     "output_type": "stream",
     "text": [
      "['one']\n",
      "['one']\n"
     ]
    }
   ],
   "source": [
    "# the best way is to pass a [] list\n",
    "def good_append(new_item, a_list):\n",
    "    a_list.append(new_item)\n",
    "    return a_list\n",
    "print(bad_append('one',[]))\n",
    "print(bad_append('one',[]))"
   ]
  },
  {
   "cell_type": "code",
   "execution_count": 14,
   "metadata": {},
   "outputs": [
    {
     "name": "stdout",
     "output_type": "stream",
     "text": [
      "49\n"
     ]
    }
   ],
   "source": [
    "print(ord('1'))\n",
    "\n"
   ]
  },
  {
   "cell_type": "code",
   "execution_count": null,
   "metadata": {},
   "outputs": [],
   "source": []
  }
 ],
 "metadata": {
  "kernelspec": {
   "display_name": "Python 3",
   "language": "python",
   "name": "python3"
  },
  "language_info": {
   "codemirror_mode": {
    "name": "ipython",
    "version": 3
   },
   "file_extension": ".py",
   "mimetype": "text/x-python",
   "name": "python",
   "nbconvert_exporter": "python",
   "pygments_lexer": "ipython3",
   "version": "3.6.5"
  }
 },
 "nbformat": 4,
 "nbformat_minor": 2
}
