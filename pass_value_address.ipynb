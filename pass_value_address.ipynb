{
 "cells": [
  {
   "cell_type": "code",
   "execution_count": 1,
   "metadata": {},
   "outputs": [],
   "source": [
    "from ctypes import *\n",
    "import os.path  \n",
    "import sys"
   ]
  },
  {
   "cell_type": "code",
   "execution_count": null,
   "metadata": {},
   "outputs": [],
   "source": [
    "def test(c):\n",
    "    print (\"test before \")\n",
    "    print (id(c))    # 输出应该是原来对象的地址\n",
    "# ==>10919360  这里输出的传入的地址\n",
    "    \n",
    "    c+=2\n",
    "    print (\"test after +\")\n",
    "    print (id(c)) # 和之前的地址是一样的\n",
    "# ==>10919424  这和我之前的想法不一样，这里是改变了原先的对象的地址\n",
    "    return c"
   ]
  },
  {
   "cell_type": "code",
   "execution_count": 3,
   "metadata": {},
   "outputs": [],
   "source": [
    "def printIt(t):\n",
    "    for i in range(len(t)):\n",
    "        print (t[i]) #每个地址应该是一样的"
   ]
  },
  {
   "cell_type": "code",
   "execution_count": 8,
   "metadata": {},
   "outputs": [
    {
     "name": "stdout",
     "output_type": "stream",
     "text": [
      "main before invoke test\n",
      "10919360\n",
      "test before \n",
      "10919360\n",
      "test after +\n",
      "10919424\n",
      "main afterf invoke test\n",
      "2\n",
      "10919360\n"
     ]
    }
   ],
   "source": [
    "if __name__==\"__main__\":\n",
    "    a=2\n",
    "    print (\"main before invoke test\")\n",
    "    print (id(a))\n",
    "# ==>10919360\n",
    "    \n",
    "    n=test(a) #这里返回来应该是一样的？还是不一样的？\n",
    "    print (\"main afterf invoke test\")\n",
    "    print (a)\n",
    "# ==>2\n",
    "    print (id(a))\n",
    "# ==>10919360 #这里还是原先的地址    "
   ]
  },
  {
   "cell_type": "code",
   "execution_count": 9,
   "metadata": {},
   "outputs": [
    {
     "name": "stdout",
     "output_type": "stream",
     "text": [
      "4\n",
      "10919424\n"
     ]
    }
   ],
   "source": [
    "    print(n) #这里应该是4\n",
    "    print(id(n)) #这里应该是10919424"
   ]
  },
  {
   "cell_type": "code",
   "execution_count": 10,
   "metadata": {},
   "outputs": [],
   "source": [
    "# 所以这个本质是说函数传递的时候传递的是地址，但是产生的新的数值（对象）的时候，新的数值的内存空间和原先穿进去的内存空间都是存在的。\n",
    "# 值运算后，C指向4所在的内存。而a仍然指向2所在的内存，所以后面打印a，其值还是2."
   ]
  },
  {
   "cell_type": "code",
   "execution_count": 11,
   "metadata": {},
   "outputs": [
    {
     "name": "stdout",
     "output_type": "stream",
     "text": [
      "1 10919328\n",
      "1 10919328\n"
     ]
    }
   ],
   "source": [
    "a = 1\n",
    "b = 1\n",
    "print(a,id(a))\n",
    "print(b,id(b))\n",
    "# 这两个应该是一样的\n",
    "# ==>\n",
    "# 1 10919328\n",
    "# 1 10919328"
   ]
  },
  {
   "cell_type": "code",
   "execution_count": 12,
   "metadata": {},
   "outputs": [
    {
     "name": "stdout",
     "output_type": "stream",
     "text": [
      "2 10919360\n",
      "1 10919328\n"
     ]
    }
   ],
   "source": [
    "a = 2\n",
    "print(a,id(a)) # 这个应该是新的\n",
    "print(b,id(b)) # 这个应该是原来的\n",
    "# ==>\n",
    "# 2 10919360\n",
    "# 1 10919328"
   ]
  },
  {
   "cell_type": "code",
   "execution_count": 13,
   "metadata": {},
   "outputs": [],
   "source": [
    "def test(list2):\n",
    "    print('before',id(list2))\n",
    "    list2[1]=30\n",
    "    print('after',id(list2))\n",
    "    return list2"
   ]
  },
  {
   "cell_type": "code",
   "execution_count": 14,
   "metadata": {},
   "outputs": [
    {
     "name": "stdout",
     "output_type": "stream",
     "text": [
      "main before: ['loleina', 25, 'female'] \t 139836890957960\n",
      "before 139836890957960\n",
      "after 139836890957960\n",
      "main after: ['loleina', 30, 'female'] \t 139836890957960\n",
      "main after: ['loleina', 30, 'female'] \t 139836890957960\n"
     ]
    }
   ],
   "source": [
    "if __name__==\"__main__\":\n",
    "    list1=[\"loleina\",25,'female']\n",
    "    print('main before:',list1,'\\t',id(list1))\n",
    "    list3=test(list1)\n",
    "    print('main after:',list1,'\\t',id(list1)) # 这里按照理论来说应该是原来的内存和原来的内容，但是实际经验是新的内容\n",
    "    print('main after:',list3,'\\t',id(list3)) # 这个肯定是新的内容\n",
    "\n",
    "# ==>\n",
    "# main before: ['loleina', 25, 'female'] \t 139836890957960\n",
    "# before 139836890957960\n",
    "# after 139836890957960\n",
    "# main after: ['loleina', 30, 'female'] \t 139836890957960\n",
    "# main after: ['loleina', 30, 'female'] \t 139836890957960    "
   ]
  },
  {
   "cell_type": "code",
   "execution_count": 16,
   "metadata": {},
   "outputs": [],
   "source": [
    "# 为什么传递列表会变化？\n",
    "# 因为列表是可变对象，可变对象的变化就在原先地址上面调整内容\n",
    "# 因为数字是不可变对象，就新开内存存放对象\n",
    "\n",
    "# 结论是\n",
    "# python参数传递采用的传递对象引用的方式，根据情况判断是传值还是传引用。\n",
    "# 如果传递是可变对象（字典和列表），传的就是地址\n",
    "# 如果传递的是不可变对象（数字，字符和元组），传的就是对象的值"
   ]
  },
  {
   "cell_type": "code",
   "execution_count": null,
   "metadata": {},
   "outputs": [],
   "source": []
  }
 ],
 "metadata": {
  "kernelspec": {
   "display_name": "Python 3",
   "language": "python",
   "name": "python3"
  },
  "language_info": {
   "codemirror_mode": {
    "name": "ipython",
    "version": 3
   },
   "file_extension": ".py",
   "mimetype": "text/x-python",
   "name": "python",
   "nbconvert_exporter": "python",
   "pygments_lexer": "ipython3",
   "version": "3.5.2"
  }
 },
 "nbformat": 4,
 "nbformat_minor": 2
}
