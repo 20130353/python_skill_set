{
 "cells": [
  {
   "cell_type": "code",
   "execution_count": 2,
   "metadata": {},
   "outputs": [
    {
     "name": "stdout",
     "output_type": "stream",
     "text": [
      "1\n",
      "2\n",
      "3\n",
      "4\n",
      "5\n",
      "1\n",
      "2\n",
      "3\n",
      "4\n",
      "5\n"
     ]
    }
   ],
   "source": [
    "# 迭代器对象和可迭代对象，生成器函数\n",
    "# 凡是可作用与for循环的对象都是可迭代的对象\n",
    "# 集合数据类型如list，dict和str都是可迭代对象（Iterable），但是不是迭代器(Iterator)，不过可以通过iter（）获取迭代器对象\n",
    "# python的for本质就是通过不断调用next（）实现的\n",
    "for x in [1,2,3,4,5]:\n",
    "    print(x)\n",
    "\n",
    "# 等价与\n",
    "it = iter([1,2,3,4,5])\n",
    "while True:\n",
    "    try:\n",
    "        x = next(it)\n",
    "        print(x)\n",
    "    except StopIteration:\n",
    "        break\n",
    "        \n",
    "    "
   ]
  },
  {
   "cell_type": "code",
   "execution_count": 3,
   "metadata": {},
   "outputs": [],
   "source": [
    "# 某软件要求，从各个网站抓取各个城市的气温，并依次显示：\n",
    "# 北京：15-20\n",
    "# 天津：17-22\n",
    "# 长春：12-18\n",
    "\n",
    "# 如果一次抓取所有城市天气在显示，需要等待所有城市都抓取完毕，那么显示第一个城市时有很高的延迟，并且浪费存储空间，所以我们希望使用“用时访问”，策略，\n",
    "# 并且把所有的城市气温放到一个对象里，可用for循环迭代，如何解决？\n",
    "# 内置函数寻找iter()接口，如果找不到就找getitem()接口\n",
    "\n",
    "# 自己实现可迭代对象和迭代器对象\n",
    "# 实现步骤：\n",
    "# 1. 实现一个迭代器对象，next方法每次返回一个城市的气温\n",
    "# 2. 实现一个可迭代对象，__iter__方法返回一个迭代器对象"
   ]
  },
  {
   "cell_type": "code",
   "execution_count": 14,
   "metadata": {},
   "outputs": [],
   "source": [
    "from collections import Iterable,Iterator\n",
    "import requests\n",
    "\n",
    "# iterable 是可迭代对象\n",
    "# iterator 迭代器对象\n",
    "\n",
    "class WeatherIterator(Iterator):\n",
    "    def __init__(self,cities):\n",
    "        self.cities = cities\n",
    "        self.index  = 0\n",
    "        \n",
    "    def get_weather(self,city):\n",
    "        r = requests.get(u'http://wthrcdn.etouch.cn/weather_mini?city=' +  city)\n",
    "        data = r.json()['data']['forecast'][0]\n",
    "#         print(data[low])\n",
    "        return '%s:%s , %s ' %(city,data['low'],data['high'])\n",
    "    \n",
    "    def __next__(self):\n",
    "        if self.index == len(self.cities):\n",
    "            raise StopIteration\n",
    "        else:\n",
    "            city = self.cities[self.index]\n",
    "            self.index += 1\n",
    "            return self.get_weather(city)"
   ]
  },
  {
   "cell_type": "code",
   "execution_count": 15,
   "metadata": {},
   "outputs": [
    {
     "name": "stdout",
     "output_type": "stream",
     "text": [
      "上海:低温 2℃ , 高温 9℃ \n",
      "北京:低温 -10℃ , 高温 -1℃ \n",
      "长春:低温 -17℃ , 高温 -9℃ \n",
      "长沙:低温 0℃ , 高温 2℃ \n",
      "厦门:低温 14℃ , 高温 18℃ \n"
     ]
    }
   ],
   "source": [
    "class WeatherIterable(Iterable):\n",
    "    def __init__(self,cities):\n",
    "        self.cities = cities\n",
    "        \n",
    "    def __iter__(self):\n",
    "        return WeatherIterator(self.cities)\n",
    "\n",
    "# 先做了一个可迭代对象，之后使用迭代器迭代每个元素\n",
    "# 本质就是可迭代对象要依靠迭代器遍历每个元素\n",
    "weather_iterable = WeatherIterable(['上海','北京','长春','长沙','厦门'])\n",
    "\n",
    "for x in weather_iterable:\n",
    "    print(x)"
   ]
  },
  {
   "cell_type": "code",
   "execution_count": 20,
   "metadata": {},
   "outputs": [
    {
     "name": "stdout",
     "output_type": "stream",
     "text": [
      "1\n",
      "2\n",
      "3\n",
      "5\n",
      "7\n",
      "11\n",
      "13\n",
      "17\n",
      "19\n",
      "23\n",
      "29\n",
      "31\n",
      "37\n",
      "41\n",
      "43\n",
      "47\n",
      "53\n",
      "59\n",
      "61\n",
      "67\n",
      "71\n",
      "73\n",
      "79\n",
      "83\n",
      "89\n",
      "97\n"
     ]
    }
   ],
   "source": [
    "# 生成器对象即实现了可迭代对象和迭代器对象,重写了iter函数中返回的是一个可以迭代的对象,他会自己调用__iter()__ 函数\n",
    "class PrimeNumbers:\n",
    "    def __init__(self,start,end):\n",
    "        self.start = start\n",
    "        self.end   = end\n",
    "    \n",
    "    def is_prime_num(self,k):\n",
    "        if k < 2:\n",
    "            return True\n",
    "        for i in range(2,k):\n",
    "            if k % i == 0:\n",
    "                return False\n",
    "        return True\n",
    "    \n",
    "    def __iter__(self):\n",
    "        for k in range(self.start,self.end+1):\n",
    "            if self.is_prime_num(k):\n",
    "                yield k\n",
    "num_iterator = PrimeNumbers(1,100) \n",
    "for x in num_iterator:\n",
    "    print(x)"
   ]
  },
  {
   "cell_type": "code",
   "execution_count": null,
   "metadata": {},
   "outputs": [],
   "source": []
  }
 ],
 "metadata": {
  "kernelspec": {
   "display_name": "Python 3",
   "language": "python",
   "name": "python3"
  },
  "language_info": {
   "codemirror_mode": {
    "name": "ipython",
    "version": 3
   },
   "file_extension": ".py",
   "mimetype": "text/x-python",
   "name": "python",
   "nbconvert_exporter": "python",
   "pygments_lexer": "ipython3",
   "version": "3.5.2"
  }
 },
 "nbformat": 4,
 "nbformat_minor": 2
}
