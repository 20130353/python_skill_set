{
 "cells": [
  {
   "cell_type": "code",
   "execution_count": 7,
   "metadata": {},
   "outputs": [
    {
     "name": "stdout",
     "output_type": "stream",
     "text": [
      "{1}\n",
      "{1}\n",
      "{1, 2, 3, 5, 6}\n",
      "{2, 3}\n",
      "{2, 3, 5, 6}\n"
     ]
    }
   ],
   "source": [
    "# set is a set of unique elements set\n",
    "# support x in set,len(set), for x in set\n",
    "# set has no order for elements\n",
    "# list.sort() 方法的输出对于 sets 的列表没有定义。\n",
    "\n",
    "a = set([1,2,3])\n",
    "b = set([1,5,6])\n",
    "\n",
    "res = a.intersection(b)\n",
    "print(res)\n",
    "print(a & b) # intersection\n",
    "print(a | b) # union\n",
    "print(a - b) # different set\n",
    "print(a ^ b) # 对称差集（项在t或s中，但不会同时出现在二者中）"
   ]
  },
  {
   "cell_type": "code",
   "execution_count": 5,
   "metadata": {},
   "outputs": [
    {
     "name": "stdout",
     "output_type": "stream",
     "text": [
      "{1}\n"
     ]
    }
   ],
   "source": [
    "# set onlf save unique elements, whatever repeat times\n",
    "a = [1,2,3]\n",
    "b = [1,1,1]\n",
    "\n",
    "res = set(a).intersection(set(b))\n",
    "print(res)"
   ]
  },
  {
   "cell_type": "code",
   "execution_count": 4,
   "metadata": {},
   "outputs": [
    {
     "name": "stdout",
     "output_type": "stream",
     "text": [
      "{1, 2, 4}\n"
     ]
    }
   ],
   "source": [
    "# set could be remove repeat elements\n",
    "a = [1,2,1,1,1,1,1,4]\n",
    "print(set(a))"
   ]
  },
  {
   "cell_type": "code",
   "execution_count": null,
   "metadata": {},
   "outputs": [],
   "source": []
  }
 ],
 "metadata": {
  "kernelspec": {
   "display_name": "Python 3",
   "language": "python",
   "name": "python3"
  },
  "language_info": {
   "codemirror_mode": {
    "name": "ipython",
    "version": 3
   },
   "file_extension": ".py",
   "mimetype": "text/x-python",
   "name": "python",
   "nbconvert_exporter": "python",
   "pygments_lexer": "ipython3",
   "version": "3.6.5"
  }
 },
 "nbformat": 4,
 "nbformat_minor": 2
}
