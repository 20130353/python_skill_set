{
 "cells": [
  {
   "cell_type": "code",
   "execution_count": 1,
   "metadata": {},
   "outputs": [],
   "source": [
    "# 学生信息为固定格式\n",
    "# 学生数量很大,使用元组表示每个学生,可以有效节省空间\n",
    "# 解决方式：\n",
    "# 1.宏定义=枚举\n",
    "# 2.类定义"
   ]
  },
  {
   "cell_type": "code",
   "execution_count": 3,
   "metadata": {},
   "outputs": [
    {
     "name": "stdout",
     "output_type": "stream",
     "text": [
      "Jim\n",
      "16\n",
      "male\n"
     ]
    }
   ],
   "source": [
    "# 出现的问题是:\n",
    "student1 = ('Jim',16,'male','jim123456@qq.com')\n",
    "\n",
    "student2 = ('Jone',16,'male','jone123456@qq.com')\n",
    "\n",
    "student3 = ('Siliy',16,'female','S123456@qq.com')\n",
    "\n",
    "# name\n",
    "print(student1[0])\n",
    "# age\n",
    "print(student1[1])\n",
    "# sex\n",
    "print(student1[2])\n",
    "\n",
    "# 程序中出现这些数字导致程序的可读性很差\n"
   ]
  },
  {
   "cell_type": "code",
   "execution_count": 5,
   "metadata": {},
   "outputs": [],
   "source": [
    "NAME,AGE,SEX,MAIL = range(4)"
   ]
  },
  {
   "cell_type": "code",
   "execution_count": 6,
   "metadata": {},
   "outputs": [
    {
     "name": "stdout",
     "output_type": "stream",
     "text": [
      "Jim\n",
      "16\n",
      "male\n"
     ]
    }
   ],
   "source": [
    "# name\n",
    "print(student1[NAME])\n",
    "# age\n",
    "print(student1[AGE])\n",
    "# sex\n",
    "print(student1[SEX])"
   ]
  },
  {
   "cell_type": "code",
   "execution_count": 8,
   "metadata": {},
   "outputs": [
    {
     "name": "stdout",
     "output_type": "stream",
     "text": [
      "Student(name='jim', age=15, sex='male', email='fdasfas@qq.com')\n",
      "Student(name='jim', age=15, sex='male', email='fdasfas@qq.com')\n"
     ]
    }
   ],
   "source": [
    "from collections import namedtuple\n",
    "# namedtuple 是 tuple的子类\n",
    "Student = namedtuple('Student',['name','age','sex','email'])\n",
    "s = Student('jim',15,'male','fdasfas@qq.com') # 可以直接使用元组放入元素\n",
    "print(s)\n",
    "s1 = Student(name = 'jim',age = 15,sex = 'male',email = 'fdasfas@qq.com') # 也可以使用类对象的方式放入元素\n",
    "print(s1)"
   ]
  },
  {
   "cell_type": "code",
   "execution_count": 10,
   "metadata": {},
   "outputs": [
    {
     "data": {
      "text/plain": [
       "'jim'"
      ]
     },
     "execution_count": 10,
     "metadata": {},
     "output_type": "execute_result"
    }
   ],
   "source": [
    "s.name # 可以使用类属性的方式访问元素"
   ]
  },
  {
   "cell_type": "code",
   "execution_count": 15,
   "metadata": {},
   "outputs": [
    {
     "data": {
      "text/plain": [
       "True"
      ]
     },
     "execution_count": 15,
     "metadata": {},
     "output_type": "execute_result"
    }
   ],
   "source": [
    "isinstance(s,tuple) # 在python3中namedtuple是tuple的子类"
   ]
  },
  {
   "cell_type": "code",
   "execution_count": 13,
   "metadata": {},
   "outputs": [
    {
     "data": {
      "text/plain": [
       "False"
      ]
     },
     "execution_count": 13,
     "metadata": {},
     "output_type": "execute_result"
    }
   ],
   "source": [
    "isinstance(namedtuple,tuple)"
   ]
  },
  {
   "cell_type": "code",
   "execution_count": null,
   "metadata": {},
   "outputs": [],
   "source": []
  }
 ],
 "metadata": {
  "kernelspec": {
   "display_name": "Python 3",
   "language": "python",
   "name": "python3"
  },
  "language_info": {
   "codemirror_mode": {
    "name": "ipython",
    "version": 3
   },
   "file_extension": ".py",
   "mimetype": "text/x-python",
   "name": "python",
   "nbconvert_exporter": "python",
   "pygments_lexer": "ipython3",
   "version": "3.5.2"
  }
 },
 "nbformat": 4,
 "nbformat_minor": 2
}
