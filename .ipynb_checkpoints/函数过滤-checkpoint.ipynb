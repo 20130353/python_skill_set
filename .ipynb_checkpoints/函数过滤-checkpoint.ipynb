{
 "cells": [
  {
   "cell_type": "code",
   "execution_count": 1,
   "metadata": {},
   "outputs": [
    {
     "ename": "SyntaxError",
     "evalue": "invalid syntax (<ipython-input-1-3054b13aa2b1>, line 2)",
     "output_type": "error",
     "traceback": [
      "\u001b[0;36m  File \u001b[0;32m\"<ipython-input-1-3054b13aa2b1>\"\u001b[0;36m, line \u001b[0;32m2\u001b[0m\n\u001b[0;31m    1. filter函数\u001b[0m\n\u001b[0m              ^\u001b[0m\n\u001b[0;31mSyntaxError\u001b[0m\u001b[0;31m:\u001b[0m invalid syntax\n"
     ]
    }
   ],
   "source": [
    "# 函数过滤的几种方法\n",
    "# 1. filter函数\n",
    "# 2. 列表解析 更快一点\n",
    "# 3. 字典 速度也没有更快,但是使用了额外的空间\n",
    "# 4. 迭代的方案最慢\n",
    "\n",
    "# 所以综上所述,使用列表解析的方式是最快的.\n"
   ]
  },
  {
   "cell_type": "code",
   "execution_count": 5,
   "metadata": {},
   "outputs": [
    {
     "name": "stdout",
     "output_type": "stream",
     "text": [
      "[4, 0, 4, 1, 0, -1, 5, 4, 6, 3]\n",
      "[4, 0, 4, 1, 0, 5, 4, 6, 3]\n"
     ]
    }
   ],
   "source": [
    "from random import randint\n",
    "data = [randint(-1,10) for _ in range(10)]\n",
    "filter_data = filter(lambda x: x>=0, data)\n",
    "print(data)\n",
    "print('filter_data:',list(filter_data))"
   ]
  },
  {
   "cell_type": "code",
   "execution_count": 7,
   "metadata": {},
   "outputs": [
    {
     "name": "stdout",
     "output_type": "stream",
     "text": [
      "list_data: [4, 0, 4, 1, 0, 5, 4, 6, 3]\n"
     ]
    }
   ],
   "source": [
    "list_data = [x for x in data if x >= 0]\n",
    "print('list_data:',list(list_data))"
   ]
  },
  {
   "cell_type": "code",
   "execution_count": 13,
   "metadata": {},
   "outputs": [
    {
     "name": "stdout",
     "output_type": "stream",
     "text": [
      "{0: 4, 1: 3, 3: 9, 4: 7, 5: 6, 6: 8, -1: 5}\n"
     ]
    }
   ],
   "source": [
    "dict_ = dict(zip(data,[i for i in range(10)]))\n",
    "print(dict_)\n",
    "dict_data = {k:v for k,v in dict_.items() if v >= 0}"
   ]
  },
  {
   "cell_type": "code",
   "execution_count": null,
   "metadata": {},
   "outputs": [],
   "source": []
  }
 ],
 "metadata": {
  "kernelspec": {
   "display_name": "Python 3",
   "language": "python",
   "name": "python3"
  },
  "language_info": {
   "codemirror_mode": {
    "name": "ipython",
    "version": 3
   },
   "file_extension": ".py",
   "mimetype": "text/x-python",
   "name": "python",
   "nbconvert_exporter": "python",
   "pygments_lexer": "ipython3",
   "version": "3.5.2"
  }
 },
 "nbformat": 4,
 "nbformat_minor": 2
}
