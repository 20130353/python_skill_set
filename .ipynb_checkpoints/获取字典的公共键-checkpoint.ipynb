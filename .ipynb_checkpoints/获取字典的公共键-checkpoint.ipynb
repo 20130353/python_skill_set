{
 "cells": [
  {
   "cell_type": "code",
   "execution_count": 12,
   "metadata": {},
   "outputs": [
    {
     "name": "stdout",
     "output_type": "stream",
     "text": [
      "{'a': 1, 'e': 2, 'c': 2, 'f': 0, 'd': 1, 'g': 3}\n",
      "{'e': 2, 'c': 2, 'b': 3, 'a': 1, 'g': 0}\n",
      "{'e': 2, 'g': 2}\n"
     ]
    }
   ],
   "source": [
    "# 字典的公共键就是不同的字典都有的键\n",
    "# 1. for 循环的方式\n",
    "# 2. dict的viewkeys方式获取key的集合，直接对集合进行操作\n",
    "# 2. map，reduce的方式\n",
    "from random import randint,sample\n",
    "# keys = sample('abcdefg',randint(1,6)) # 随机选取1-6个\n",
    "s1  =  {x:randint(0,4) for x in sample('abcdefg',randint(1,6)) }\n",
    "s2  =  {x:randint(0,4) for x in sample('abcdefg',randint(1,6)) }\n",
    "s3  =  {x:randint(0,4) for x in sample('abcdefg',randint(1,6)) }\n",
    "print(s1)\n",
    "print(s2)\n",
    "print(s3)"
   ]
  },
  {
   "cell_type": "code",
   "execution_count": 13,
   "metadata": {},
   "outputs": [
    {
     "name": "stdout",
     "output_type": "stream",
     "text": [
      "['e', 'g']\n"
     ]
    }
   ],
   "source": [
    "res = []\n",
    "for x in s1.keys():\n",
    "    if x in s2.keys() and x in s3.keys():\n",
    "        res.append(x)\n",
    "print(res)"
   ]
  },
  {
   "cell_type": "code",
   "execution_count": 22,
   "metadata": {},
   "outputs": [
    {
     "name": "stdout",
     "output_type": "stream",
     "text": [
      "{'e', 'g'}\n"
     ]
    }
   ],
   "source": [
    "type(s1)\n",
    "res = s1.keys() & s2.keys() & s3.keys()  # python3 将python2 所有的view 都去掉了\n",
    "print(res)"
   ]
  },
  {
   "cell_type": "code",
   "execution_count": 24,
   "metadata": {},
   "outputs": [
    {
     "name": "stdout",
     "output_type": "stream",
     "text": [
      "{'e', 'g'}\n"
     ]
    }
   ],
   "source": [
    "# 使用map的方式是，map（fun,list列表）\n",
    "from functools import reduce\n",
    "res = reduce(lambda a,b: a&b, map(dict.keys,[s1,s2,s3]))\n",
    "print(res)"
   ]
  },
  {
   "cell_type": "code",
   "execution_count": null,
   "metadata": {},
   "outputs": [],
   "source": []
  },
  {
   "cell_type": "code",
   "execution_count": null,
   "metadata": {},
   "outputs": [],
   "source": []
  }
 ],
 "metadata": {
  "kernelspec": {
   "display_name": "Python 3",
   "language": "python",
   "name": "python3"
  },
  "language_info": {
   "codemirror_mode": {
    "name": "ipython",
    "version": 3
   },
   "file_extension": ".py",
   "mimetype": "text/x-python",
   "name": "python",
   "nbconvert_exporter": "python",
   "pygments_lexer": "ipython3",
   "version": "3.5.2"
  }
 },
 "nbformat": 4,
 "nbformat_minor": 2
}
