{
 "cells": [
  {
   "cell_type": "code",
   "execution_count": 3,
   "metadata": {},
   "outputs": [
    {
     "name": "stdout",
     "output_type": "stream",
     "text": [
      "[130, 157, 196, 45, 254, 164, 162, 100, 149, 224]\n"
     ]
    }
   ],
   "source": [
    "# 应用场景\n",
    "# 1. 统计某个班的学习成绩(并行，同时迭代)\n",
    "# 2. 依次统计所有班级的学习成绩（串行）\n",
    "\n",
    "# 对于第一种情况。可以使用zip将一个同学的所有成绩组合起来\n",
    "from random import randint\n",
    "chinese = [randint(0,100) for _ in range(10)]\n",
    "math    = [randint(0,100) for _ in range(10)]\n",
    "english = [randint(0,100) for _ in range(10)]\n",
    "\n",
    "zip([1,2,3],('a','b','c'))\n",
    "total = []\n",
    "for c,m,e in zip(chinese,math,english):\n",
    "    total.append(c+m+e)\n",
    "print(total)"
   ]
  },
  {
   "cell_type": "code",
   "execution_count": 6,
   "metadata": {},
   "outputs": [
    {
     "name": "stdout",
     "output_type": "stream",
     "text": [
      "[12, 26, 28, 100, 23, 55, 46, 61, 20, 51] [30, 28, 6, 2, 62, 60, 56, 82, 77, 23, 12, 26, 66] [65, 50, 61, 64, 96, 50, 4, 43]\n",
      "28\n"
     ]
    }
   ],
   "source": [
    "# 对于第二种情况。可以使用itertools 同时将多个迭代对象转化成多个迭代对象\n",
    "from itertools import chain\n",
    "chinese = [randint(0,100) for _ in range(10)]\n",
    "math    = [randint(0,100) for _ in range(13)]\n",
    "english = [randint(0,100) for _ in range(8)]\n",
    "\n",
    "print(chinese,math,english)\n",
    "count = sum([1 for x in chain(chinese,math,english) if x >= 10] )\n",
    "print(count)    "
   ]
  },
  {
   "cell_type": "code",
   "execution_count": null,
   "metadata": {},
   "outputs": [],
   "source": []
  }
 ],
 "metadata": {
  "kernelspec": {
   "display_name": "Python 3",
   "language": "python",
   "name": "python3"
  },
  "language_info": {
   "codemirror_mode": {
    "name": "ipython",
    "version": 3
   },
   "file_extension": ".py",
   "mimetype": "text/x-python",
   "name": "python",
   "nbconvert_exporter": "python",
   "pygments_lexer": "ipython3",
   "version": "3.5.2"
  }
 },
 "nbformat": 4,
 "nbformat_minor": 2
}
