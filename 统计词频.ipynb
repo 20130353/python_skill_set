{
 "cells": [
  {
   "cell_type": "code",
   "execution_count": 1,
   "metadata": {},
   "outputs": [
    {
     "name": "stdout",
     "output_type": "stream",
     "text": [
      "{1: 4, 4: 3, 5: 1, 6: 2, 7: 1, 8: 1, 10: 1}\n"
     ]
    }
   ],
   "source": [
    "# 统计词频\n",
    "# 解决方式：\n",
    "# 1.手动dict\n",
    "# 2.Counter\n",
    "\n",
    "data = [1,1,1,1,4,4,4,5,6,6,7,8,10]\n",
    "dict_data = {}.fromkeys(data,0)\n",
    "for each in data:\n",
    "    dict_data[each] += 1\n",
    "\n",
    "print(dict_data)\n"
   ]
  },
  {
   "cell_type": "code",
   "execution_count": 3,
   "metadata": {},
   "outputs": [
    {
     "name": "stdout",
     "output_type": "stream",
     "text": [
      "Counter({1: 4, 4: 3, 6: 2, 5: 1, 7: 1, 8: 1, 10: 1})\n",
      "[(1, 4), (4, 3), (6, 2)]\n"
     ]
    }
   ],
   "source": [
    "from collections import Counter\n",
    "count_data = Counter(data)\n",
    "print(count_data)\n",
    "print(count_data.most_common(3))"
   ]
  },
  {
   "cell_type": "code",
   "execution_count": null,
   "metadata": {},
   "outputs": [],
   "source": []
  }
 ],
 "metadata": {
  "kernelspec": {
   "display_name": "Python 3",
   "language": "python",
   "name": "python3"
  },
  "language_info": {
   "codemirror_mode": {
    "name": "ipython",
    "version": 3
   },
   "file_extension": ".py",
   "mimetype": "text/x-python",
   "name": "python",
   "nbconvert_exporter": "python",
   "pygments_lexer": "ipython3",
   "version": "3.5.2"
  }
 },
 "nbformat": 4,
 "nbformat_minor": 2
}
